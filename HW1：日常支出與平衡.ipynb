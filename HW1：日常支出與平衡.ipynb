{
  "nbformat": 4,
  "nbformat_minor": 0,
  "metadata": {
    "colab": {
      "provenance": [],
      "authorship_tag": "ABX9TyN30LBs3yLbDHDBGPkO9AWp",
      "include_colab_link": true
    },
    "kernelspec": {
      "name": "python3",
      "display_name": "Python 3"
    },
    "language_info": {
      "name": "python"
    }
  },
  "cells": [
    {
      "cell_type": "markdown",
      "metadata": {
        "id": "view-in-github",
        "colab_type": "text"
      },
      "source": [
        "<a href=\"https://colab.research.google.com/github/Gagalin105/PL-Repo.-README/blob/main/HW1%EF%BC%9A%E6%97%A5%E5%B8%B8%E6%94%AF%E5%87%BA%E8%88%87%E5%B9%B3%E8%A1%A1.ipynb\" target=\"_parent\"><img src=\"https://colab.research.google.com/assets/colab-badge.svg\" alt=\"Open In Colab\"/></a>"
      ]
    },
    {
      "cell_type": "markdown",
      "source": [
        "日常支出速算與分攤（作業一）\n",
        "\n",
        "\n",
        "*   輸入種類與數值\n",
        "*   根據種類分類\n",
        "\n",
        "\n",
        "*   計算總收入\n",
        "\n",
        "\n",
        "\n"
      ],
      "metadata": {
        "id": "aGg5VIsZ50Zi"
      }
    },
    {
      "cell_type": "markdown",
      "metadata": {
        "id": "df7f7279"
      },
      "source": [
        "# **標頭檔**\n"
      ]
    },
    {
      "cell_type": "code",
      "metadata": {
        "id": "38778d21"
      },
      "source": [
        "import pandas as pd\n",
        "from datetime import datetime\n",
        "import re\n",
        "import gspread\n",
        "from google.colab import auth\n",
        "from google.auth import default\n",
        "\n",
        "# Authenticate and authorize gspread\n",
        "auth.authenticate_user()\n",
        "creds, _ = default()\n",
        "gc = gspread.authorize(creds)\n",
        "\n",
        "# Initialize global variables\n",
        "total_income = 0"
      ],
      "execution_count": null,
      "outputs": []
    },
    {
      "cell_type": "markdown",
      "source": [
        "# **函式：輸入**"
      ],
      "metadata": {
        "id": "KMgK13gMRT9A"
      }
    },
    {
      "cell_type": "code",
      "metadata": {
        "id": "70d3cce9"
      },
      "source": [
        "def get_expense_input():\n",
        "    \"\"\"Gets expense details from the user.\"\"\"\n",
        "    date_input = input(\"請輸入日期 (YYYY-MM-DD): \")\n",
        "    time_input = input(\"請輸入時間 (HH:MM): \")\n",
        "    item_input = input(\"請輸入項目: \")\n",
        "    amount_input_str = input(\"請輸入金額: \")\n",
        "    category_input = input(\"請根據先前輸入的項目分類，並輸入對應的數字：1. 收入、2. 吃喝、3. 娛樂: \")\n",
        "\n",
        "    try:\n",
        "        amount_input = float(amount_input_str)\n",
        "    except ValueError:\n",
        "        print(\"無效的金額輸入。請輸入數字。\")\n",
        "        return None, None, None, None, None # Return None for all if amount is invalid\n",
        "\n",
        "    return date_input, time_input, item_input, amount_input, category_input\n",
        "\n",
        "# Modify the add_expense function to accept parameters\n",
        "def add_expense(date_str, time_str, item, amount, category_input):\n",
        "    try:\n",
        "        # Validate and correct date format (YYYY-MM-DD)\n",
        "        date_match = re.match(r'(\\d{4})[=/-](\\d{1,2})[=/-](\\d{1,2})', date_str)\n",
        "        if not date_match:\n",
        "            print(\"日期格式錯誤：請使用 YYYY-MM-DD 格式。\")\n",
        "            return\n",
        "\n",
        "        year, month, day = date_match.groups()\n",
        "        # Attempt to correct month and day if they are single digits\n",
        "        corrected_date_str = f\"{year}-{int(month):02d}-{int(day):02d}\"\n",
        "\n",
        "        # Validate and correct time format (HH:MM)\n",
        "        time_match = re.match(r'^(\\d{1,2}):(\\d{1,2})$', time_str)\n",
        "        if not time_match:\n",
        "            print(\"時間格式錯誤：請使用 HH:MM 格式 (24小時制)。\")\n",
        "            return\n",
        "\n",
        "        hour, minute = time_match.groups()\n",
        "        # Attempt to correct hour and minute if they are single digits and validate values\n",
        "        try:\n",
        "            corrected_time_str = f\"{int(hour):02d}:{int(minute):02d}\"\n",
        "            # Further validation for hour and minute values\n",
        "            if not (0 <= int(hour) <= 23 and 0 <= int(minute) <= 59):\n",
        "                 print(\"時間格式錯誤：請使用 HH:MM 格式 (24小時制)。時或分超出有效範圍。\")\n",
        "                 return\n",
        "        except ValueError:\n",
        "             print(\"時間格式錯誤：請使用 HH:MM 格式 (24小時制)。\")\n",
        "             return\n",
        "\n",
        "        # Combine corrected date and time strings and convert to datetime object\n",
        "        datetime_str = f\"{corrected_date_str} {corrected_time_str}\"\n",
        "        datetime_obj = datetime.strptime(datetime_str, '%Y-%m-%d %H:%M')\n",
        "\n",
        "        # --- Category input and validation (moved from original add_expense) ---\n",
        "        category_map = {'1': '收入', '2': '吃喝', '3': '娛樂'}\n",
        "\n",
        "        if category_input not in category_map:\n",
        "            print(\"無效的分類輸入。請輸入 1, 2, 或 3。\")\n",
        "            return\n",
        "\n",
        "        category = category_map[category_input]\n",
        "        # --- End of category validation ---\n",
        "\n",
        "\n",
        "        # Create a new row as a list for gspread\n",
        "        # Add the category to the list\n",
        "        new_row_list = [datetime_obj.date().strftime('%Y-%m-%d'),\n",
        "                        datetime_obj.time().strftime('%H:%M'),\n",
        "                        item,\n",
        "                        amount,\n",
        "                        category] # Add the category here\n",
        "\n",
        "\n",
        "        # Append the new row to the Google Sheet using gspread\n",
        "        # Use the gc object from the previous cell\n",
        "        sheet = gc.open_by_url(\"https://docs.google.com/spreadsheets/d/1hWNTg2T0acFyg1xrtLd35HZJxOQFrg0bVyBdgcWYTJ4/edit?gid=0#gid=0\")\n",
        "        worksheet = sheet.sheet1 # Assuming the data is in the first sheet\n",
        "\n",
        "        worksheet.append_row(new_row_list)\n",
        "\n",
        "        print(\"Row added to Google Sheet successfully!\")\n",
        "\n",
        "        # --- New code for updating total income ---\n",
        "        global total_income\n",
        "        if category == '收入':\n",
        "            total_income += amount\n",
        "        else:\n",
        "            total_income -= amount\n",
        "\n",
        "        print(f\"目前的總收入為 {total_income} 元\")\n",
        "        # --- End of new code ---\n",
        "\n",
        "\n",
        "        # Optional: Update the DataFrame in memory after writing to the sheet\n",
        "        global df\n",
        "        if 'df' in globals() and isinstance(df, pd.DataFrame):\n",
        "            new_row_dict = {'日期': datetime_obj.date(),\n",
        "                            '時間': datetime_obj.time(),\n",
        "                            '項目': item,\n",
        "                            '金額': amount,\n",
        "                            '類型': category} # Add category to DataFrame dict\n",
        "            # Use pd.concat instead of append for newer pandas version\n",
        "\n",
        "    except ValueError as e:\n",
        "        print(f\"Error adding row: {e}\")\n",
        "        print(\"請確保日期和時間格式正確。\")\n",
        "    except Exception as e:\n",
        "        print(f\"An unexpected error occurred: {e}\")\n",
        "\n",
        "# Example of how to use the functions\n",
        "# date_input, time_input, item_input, amount_input, category_input = get_expense_input()\n",
        "# if all([date_input, time_input, item_input, amount_input is not None, category_input]): # Check if all inputs are valid\n",
        "#     add_expense(date_input, time_input, item_input, amount_input, category_input)"
      ],
      "execution_count": 19,
      "outputs": []
    },
    {
      "cell_type": "markdown",
      "metadata": {
        "id": "40614ed1"
      },
      "source": [
        "# **顯示時依時間排序**\n"
      ]
    },
    {
      "cell_type": "code",
      "metadata": {
        "colab": {
          "base_uri": "https://localhost:8080/",
          "height": 211
        },
        "id": "b56f9f5d",
        "outputId": "4554d4f0-99bd-404d-c524-1e1b256c001b"
      },
      "source": [
        "# Combine '日期' and '時間' into a single datetime column\n",
        "df['時間戳記'] = df['日期'] + ' ' + df['時間']\n",
        "\n",
        "# Convert the '時間戳記' column to datetime objects\n",
        "df['時間戳記'] = pd.to_datetime(df['時間戳記'])\n",
        "\n",
        "# Sort the DataFrame by the new '時間戳記' column in ascending order\n",
        "df = df.sort_values(by='時間戳記', ascending=True)\n",
        "\n",
        "# Display the first few rows of the sorted DataFrame to verify\n",
        "display(df.head())"
      ],
      "execution_count": 20,
      "outputs": [
        {
          "output_type": "error",
          "ename": "NameError",
          "evalue": "name 'df' is not defined",
          "traceback": [
            "\u001b[0;31m---------------------------------------------------------------------------\u001b[0m",
            "\u001b[0;31mNameError\u001b[0m                                 Traceback (most recent call last)",
            "\u001b[0;32m/tmp/ipython-input-101294939.py\u001b[0m in \u001b[0;36m<cell line: 0>\u001b[0;34m()\u001b[0m\n\u001b[1;32m      1\u001b[0m \u001b[0;31m# Combine '日期' and '時間' into a single datetime column\u001b[0m\u001b[0;34m\u001b[0m\u001b[0;34m\u001b[0m\u001b[0m\n\u001b[0;32m----> 2\u001b[0;31m \u001b[0mdf\u001b[0m\u001b[0;34m[\u001b[0m\u001b[0;34m'時間戳記'\u001b[0m\u001b[0;34m]\u001b[0m \u001b[0;34m=\u001b[0m \u001b[0mdf\u001b[0m\u001b[0;34m[\u001b[0m\u001b[0;34m'日期'\u001b[0m\u001b[0;34m]\u001b[0m \u001b[0;34m+\u001b[0m \u001b[0;34m' '\u001b[0m \u001b[0;34m+\u001b[0m \u001b[0mdf\u001b[0m\u001b[0;34m[\u001b[0m\u001b[0;34m'時間'\u001b[0m\u001b[0;34m]\u001b[0m\u001b[0;34m\u001b[0m\u001b[0;34m\u001b[0m\u001b[0m\n\u001b[0m\u001b[1;32m      3\u001b[0m \u001b[0;34m\u001b[0m\u001b[0m\n\u001b[1;32m      4\u001b[0m \u001b[0;31m# Convert the '時間戳記' column to datetime objects\u001b[0m\u001b[0;34m\u001b[0m\u001b[0;34m\u001b[0m\u001b[0m\n\u001b[1;32m      5\u001b[0m \u001b[0mdf\u001b[0m\u001b[0;34m[\u001b[0m\u001b[0;34m'時間戳記'\u001b[0m\u001b[0;34m]\u001b[0m \u001b[0;34m=\u001b[0m \u001b[0mpd\u001b[0m\u001b[0;34m.\u001b[0m\u001b[0mto_datetime\u001b[0m\u001b[0;34m(\u001b[0m\u001b[0mdf\u001b[0m\u001b[0;34m[\u001b[0m\u001b[0;34m'時間戳記'\u001b[0m\u001b[0;34m]\u001b[0m\u001b[0;34m)\u001b[0m\u001b[0;34m\u001b[0m\u001b[0;34m\u001b[0m\u001b[0m\n",
            "\u001b[0;31mNameError\u001b[0m: name 'df' is not defined"
          ]
        }
      ]
    },
    {
      "cell_type": "markdown",
      "metadata": {
        "id": "4fb6ff65"
      },
      "source": [
        "## 顯示排序後的項目\n",
        "\n",
        "### Subtask:\n",
        "將排序後的 DataFrame 顯示給使用者。\n"
      ]
    },
    {
      "cell_type": "markdown",
      "metadata": {
        "id": "c360224a"
      },
      "source": [
        "**Reasoning**:\n",
        "Add a text description before displaying the sorted DataFrame and then display the entire DataFrame to the user.\n",
        "\n"
      ]
    },
    {
      "cell_type": "code",
      "metadata": {
        "id": "8cb7b93e"
      },
      "source": [
        "print(\"以下是依時間排序的所有記帳項目：\")\n",
        "display(df)"
      ],
      "execution_count": null,
      "outputs": []
    },
    {
      "cell_type": "markdown",
      "source": [
        "# **函式：menu**"
      ],
      "metadata": {
        "id": "ZY-qMiSaOUm3"
      }
    },
    {
      "cell_type": "code",
      "source": [
        "def display_menu():\n",
        "    \"\"\"Displays the main menu options to the user.\"\"\"\n",
        "    print(\"\\n請選擇功能：\")\n",
        "    print(\"1. 新增支出/收入\")\n",
        "    print(\"2. 顯示所有記帳項目 (依時間排序)\")\n",
        "    print(\"3. 顯示財務總結\")\n",
        "    print(\"q. 退出\")"
      ],
      "metadata": {
        "id": "8BDw6OqHOJQy"
      },
      "execution_count": null,
      "outputs": []
    },
    {
      "cell_type": "markdown",
      "source": [
        "# **函式：顯示儲存資料**"
      ],
      "metadata": {
        "id": "7AqcTM8nDHZ-"
      }
    },
    {
      "cell_type": "code",
      "source": [
        "def display_all_items():\n",
        "    \"\"\"Reads, sorts, and displays all items from the Google Sheet.\"\"\"\n",
        "    # Access the Google Sheet using the gc object and the sheet URL\n",
        "    sheet = gc.open_by_url(\"https://docs.google.com/spreadsheets/d/1hWNTg2T0acFyg1xrtLd35HZJxOQFrg0bVyBdgcWYTJ4/edit?gid=0#gid=0\")\n",
        "    worksheet = sheet.sheet1\n",
        "\n",
        "    # Read all data from the worksheet\n",
        "    data = worksheet.get_all_values()\n",
        "\n",
        "    if len(data) > 1:\n",
        "        df = pd.DataFrame(data[1:], columns=data[0])\n",
        "\n",
        "        # Ensure '金額' column is numeric, coercing errors to NaN\n",
        "        df['金額'] = pd.to_numeric(df['金額'], errors='coerce')\n",
        "        df.dropna(subset=['金額'], inplace=True)\n",
        "\n",
        "        # Ensure '日期' and '時間' columns exist\n",
        "        if '日期' in df.columns and '時間' in df.columns:\n",
        "             # Combine '日期' and '時間' into a single datetime column\n",
        "             df['時間戳記'] = df['日期'] + ' ' + df['時間']\n",
        "             # Convert the '時間戳記' column to datetime objects, handling potential errors\n",
        "             df['時間戳記'] = pd.to_datetime(df['時間戳記'], errors='coerce')\n",
        "             df.dropna(subset=['時間戳記'], inplace=True) # Drop rows with invalid datetime\n",
        "\n",
        "             # Sort the DataFrame by the new '時間戳記' column in ascending order\n",
        "             df = df.sort_values(by='時間戳記', ascending=True)\n",
        "\n",
        "             print(\"\\n以下是依時間排序的所有記帳項目：\")\n",
        "             display(df[['日期', '時間', '項目', '金額', '類型']]) # Display relevant columns\n",
        "        else:\n",
        "             print(\"Google Sheet 中缺少 '日期' 或 '時間' 欄位，無法依時間排序顯示。\")\n",
        "             display(df) # Display unsorted if sorting not possible\n",
        "\n",
        "\n",
        "    else:\n",
        "        print(\"Google Sheet 是空的，沒有記帳項目。\")"
      ],
      "metadata": {
        "id": "RzVwavqcDEk1"
      },
      "execution_count": 21,
      "outputs": []
    },
    {
      "cell_type": "markdown",
      "source": [
        "# **函式：財務總結**"
      ],
      "metadata": {
        "id": "YBcDZvyPNgAF"
      }
    },
    {
      "cell_type": "code",
      "metadata": {
        "id": "984797fb"
      },
      "source": [
        "def display_financial_summary():\n",
        "    \"\"\"Reads data and displays the financial summary.\"\"\"\n",
        "    try:\n",
        "        # Access the Google Sheet and read data (similar to display_all_items)\n",
        "        sheet = gc.open_by_url(\"https://docs.google.com/spreadsheets/d/1hWNTg2T0acFyg1xrtLd35HZJxOQFrg0bVyBdgcWYTJ4/edit?gid=0#gid=0\")\n",
        "        worksheet = sheet.sheet1\n",
        "        data = worksheet.get_all_values()\n",
        "\n",
        "        if len(data) > 1:\n",
        "            df = pd.DataFrame(data[1:], columns=data[0])\n",
        "\n",
        "            # Ensure '金額' column is numeric and '類型' column exists\n",
        "            df['金額'] = pd.to_numeric(df['金額'], errors='coerce')\n",
        "            df.dropna(subset=['金額'], inplace=True)\n",
        "            if '類型' not in df.columns:\n",
        "                df['類型'] = '未知' # Default category if column is missing\n",
        "\n",
        "            # Calculate total income and expenses\n",
        "            total_income = df[df['類型'] == '收入']['金額'].sum()\n",
        "            total_expense = df[df['類型'] != '收入']['金額'].sum()\n",
        "            total_balance = total_income - total_expense\n",
        "\n",
        "            print(\"\\n財務總結:\")\n",
        "            print(f\"總收入: {total_income:.2f} 元\")\n",
        "            print(f\"總支出: {total_expense:.2f} 元\")\n",
        "            print(f\"總餘額: {total_balance:.2f} 元\")\n",
        "        else:\n",
        "            print(\"Google Sheet 是空的，沒有記帳項目可供計算。\")\n",
        "            print(\"\\n財務總結:\")\n",
        "            print(\"總收入: 0.00 元\")\n",
        "            print(\"總支出: 0.00 元\")\n",
        "            print(\"總餘額: 0.00 元\")\n",
        "\n",
        "    except Exception as e:\n",
        "        print(f\"計算或顯示財務總結時發生錯誤: {e}\")\n",
        "\n",
        "    return True\n"
      ],
      "execution_count": null,
      "outputs": []
    },
    {
      "cell_type": "markdown",
      "source": [
        "# **主迴圈**"
      ],
      "metadata": {
        "id": "SNLlERvuO9-0"
      }
    },
    {
      "cell_type": "code",
      "source": [
        "while True:\n",
        "    display_menu()\n",
        "    choice = input(\"請輸入您的選擇: \").lower()\n",
        "\n",
        "    if choice == '1':\n",
        "        date_input, time_input, item_input, amount_input, category_input = get_expense_input()\n",
        "        if all([date_input, time_input, item_input, amount_input is not None, category_input]):\n",
        "            add_expense(date_input, time_input, item_input, amount_input, category_input)\n",
        "        else:\n",
        "            print(\"輸入無效，請重試。\")\n",
        "    elif choice == '2':\n",
        "        display_all_items()\n",
        "    elif choice == '3':\n",
        "        display_financial_summary()\n",
        "    elif choice == 'q':\n",
        "        print(\"程式結束。\")\n",
        "        break\n",
        "    else:\n",
        "        print(\"無效的選擇，請重新輸入。\")"
      ],
      "metadata": {
        "id": "t1M8GyeyO84f",
        "colab": {
          "base_uri": "https://localhost:8080/",
          "height": 508
        },
        "outputId": "380981d4-cbd7-4ecd-deba-3af1353594df"
      },
      "execution_count": 22,
      "outputs": [
        {
          "name": "stdout",
          "output_type": "stream",
          "text": [
            "\n",
            "請選擇功能：\n",
            "1. 新增支出/收入\n",
            "2. 顯示所有記帳項目 (依時間排序)\n",
            "3. 顯示財務總結\n",
            "q. 退出\n",
            "請輸入您的選擇: 2\n"
          ]
        },
        {
          "output_type": "error",
          "ename": "NameError",
          "evalue": "name 'gc' is not defined",
          "traceback": [
            "\u001b[0;31m---------------------------------------------------------------------------\u001b[0m",
            "\u001b[0;31mNameError\u001b[0m                                 Traceback (most recent call last)",
            "\u001b[0;32m/tmp/ipython-input-4089469147.py\u001b[0m in \u001b[0;36m<cell line: 0>\u001b[0;34m()\u001b[0m\n\u001b[1;32m     10\u001b[0m             \u001b[0mprint\u001b[0m\u001b[0;34m(\u001b[0m\u001b[0;34m\"輸入無效，請重試。\"\u001b[0m\u001b[0;34m)\u001b[0m\u001b[0;34m\u001b[0m\u001b[0;34m\u001b[0m\u001b[0m\n\u001b[1;32m     11\u001b[0m     \u001b[0;32melif\u001b[0m \u001b[0mchoice\u001b[0m \u001b[0;34m==\u001b[0m \u001b[0;34m'2'\u001b[0m\u001b[0;34m:\u001b[0m\u001b[0;34m\u001b[0m\u001b[0;34m\u001b[0m\u001b[0m\n\u001b[0;32m---> 12\u001b[0;31m         \u001b[0mdisplay_all_items\u001b[0m\u001b[0;34m(\u001b[0m\u001b[0;34m)\u001b[0m\u001b[0;34m\u001b[0m\u001b[0;34m\u001b[0m\u001b[0m\n\u001b[0m\u001b[1;32m     13\u001b[0m     \u001b[0;32melif\u001b[0m \u001b[0mchoice\u001b[0m \u001b[0;34m==\u001b[0m \u001b[0;34m'3'\u001b[0m\u001b[0;34m:\u001b[0m\u001b[0;34m\u001b[0m\u001b[0;34m\u001b[0m\u001b[0m\n\u001b[1;32m     14\u001b[0m         \u001b[0mdisplay_financial_summary\u001b[0m\u001b[0;34m(\u001b[0m\u001b[0;34m)\u001b[0m\u001b[0;34m\u001b[0m\u001b[0;34m\u001b[0m\u001b[0m\n",
            "\u001b[0;32m/tmp/ipython-input-2961732139.py\u001b[0m in \u001b[0;36mdisplay_all_items\u001b[0;34m()\u001b[0m\n\u001b[1;32m      2\u001b[0m     \u001b[0;34m\"\"\"Reads, sorts, and displays all items from the Google Sheet.\"\"\"\u001b[0m\u001b[0;34m\u001b[0m\u001b[0;34m\u001b[0m\u001b[0m\n\u001b[1;32m      3\u001b[0m     \u001b[0;31m# Access the Google Sheet using the gc object and the sheet URL\u001b[0m\u001b[0;34m\u001b[0m\u001b[0;34m\u001b[0m\u001b[0m\n\u001b[0;32m----> 4\u001b[0;31m     \u001b[0msheet\u001b[0m \u001b[0;34m=\u001b[0m \u001b[0mgc\u001b[0m\u001b[0;34m.\u001b[0m\u001b[0mopen_by_url\u001b[0m\u001b[0;34m(\u001b[0m\u001b[0;34m\"https://docs.google.com/spreadsheets/d/1hWNTg2T0acFyg1xrtLd35HZJxOQFrg0bVyBdgcWYTJ4/edit?gid=0#gid=0\"\u001b[0m\u001b[0;34m)\u001b[0m\u001b[0;34m\u001b[0m\u001b[0;34m\u001b[0m\u001b[0m\n\u001b[0m\u001b[1;32m      5\u001b[0m     \u001b[0mworksheet\u001b[0m \u001b[0;34m=\u001b[0m \u001b[0msheet\u001b[0m\u001b[0;34m.\u001b[0m\u001b[0msheet1\u001b[0m\u001b[0;34m\u001b[0m\u001b[0;34m\u001b[0m\u001b[0m\n\u001b[1;32m      6\u001b[0m \u001b[0;34m\u001b[0m\u001b[0m\n",
            "\u001b[0;31mNameError\u001b[0m: name 'gc' is not defined"
          ]
        }
      ]
    }
  ]
}